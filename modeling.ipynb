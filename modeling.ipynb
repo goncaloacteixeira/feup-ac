{
 "cells": [
  {
   "cell_type": "code",
   "execution_count": 1,
   "id": "6efa49aa",
   "metadata": {},
   "outputs": [],
   "source": [
    "import pandas as pd"
   ]
  },
  {
   "cell_type": "code",
   "execution_count": 2,
   "id": "09443efd",
   "metadata": {
    "scrolled": false
   },
   "outputs": [],
   "source": [
    "train_train_df = pd.read_csv(\"train_train_rm.csv\", sep=\";\")\n",
    "train_test_df = pd.read_csv(\"train_test_rm.csv\", sep=\";\")\n",
    "\n",
    "test_df = pd.read_csv(\"test_rm.csv\", sep=\";\")"
   ]
  },
  {
   "cell_type": "code",
   "execution_count": 3,
   "id": "209474d7",
   "metadata": {},
   "outputs": [],
   "source": [
    "train_train_df = train_train_df.rename(columns=lambda x: x.replace(\"[\", \"\"))  \n",
    "train_train_df = train_train_df.rename(columns=lambda x: x.replace(\"]\", \"\"))\n",
    "train_train_df = train_train_df.rename(columns=lambda x: x.replace(\"<\", \"lt\"))\n",
    "train_test_df = train_test_df.rename(columns=lambda x: x.replace(\"[\", \"\"))\n",
    "train_test_df = train_test_df.rename(columns=lambda x: x.replace(\"]\", \"\"))\n",
    "train_test_df = train_test_df.rename(columns=lambda x: x.replace(\"<\", \"lt\"))\n",
    "test_df = test_df.rename(columns=lambda x: x.replace(\"[\", \"\"))\n",
    "test_df = test_df.rename(columns=lambda x: x.replace(\"]\", \"\"))\n",
    "test_df = test_df.rename(columns=lambda x: x.replace(\"<\", \"lt\"))"
   ]
  },
  {
   "cell_type": "markdown",
   "id": "f6275eca",
   "metadata": {},
   "source": [
    "## Random Forest Classifier"
   ]
  },
  {
   "cell_type": "code",
   "execution_count": 4,
   "id": "ca6e2fdb",
   "metadata": {
    "scrolled": false
   },
   "outputs": [
    {
     "name": "stdout",
     "output_type": "stream",
     "text": [
      "Best Score: 0.8841534612176813\n",
      "Best Params: {'criterion': 'gini', 'max_depth': 6, 'max_features': 'auto', 'n_estimators': 200}\n"
     ]
    }
   ],
   "source": [
    "from sklearn.ensemble import RandomForestClassifier\n",
    "from sklearn.model_selection import GridSearchCV\n",
    "from sklearn import metrics\n",
    "from sklearn import svm\n",
    "import xgboost as xgb\n",
    "from scipy.stats import uniform, randint\n",
    "\n",
    "unwanted_features = [\"status\", \"loan_id\"]\n",
    "features = [x for x in list(train_train_df) if x not in unwanted_features]\n",
    "target = \"status\"\n",
    "\n",
    "train_train_df = train_train_df.append(train_test_df, ignore_index=True)\n",
    "\n",
    "X = train_train_df[features]\n",
    "y = train_train_df[target]\n",
    "\n",
    "X_test = train_test_df[features]\n",
    "y_test = train_test_df[target]\n",
    "\n",
    "\n",
    "rfc = RandomForestClassifier(random_state=42)\n",
    "\n",
    "param_grid = { \n",
    "    'n_estimators': [100, 150, 200],\n",
    "    'max_features': ['auto', 'sqrt', 'log2'],\n",
    "    'max_depth' : [4,5,6],\n",
    "    'criterion' :['gini', 'entropy'],\n",
    "}\n",
    "\n",
    "CV_rfc = GridSearchCV(estimator=rfc, param_grid=param_grid, cv=3)\n",
    "\n",
    "CV_rfc.fit(X, y)\n",
    "\n",
    "print(\"Best Score:\", CV_rfc.best_score_)\n",
    "print(\"Best Params:\", CV_rfc.best_params_)"
   ]
  },
  {
   "cell_type": "code",
   "execution_count": 5,
   "id": "fbfd0572",
   "metadata": {},
   "outputs": [
    {
     "data": {
      "text/plain": [
       "RandomForestClassifier(max_depth=5, n_estimators=200, random_state=42)"
      ]
     },
     "execution_count": 5,
     "metadata": {},
     "output_type": "execute_result"
    }
   ],
   "source": [
    "clf_rfc = RandomForestClassifier(random_state=42, criterion='gini', max_depth=5, max_features='auto', n_estimators=200)\n",
    "\n",
    "clf_rfc.fit(X, y)"
   ]
  },
  {
   "cell_type": "code",
   "execution_count": 6,
   "id": "4c6983da",
   "metadata": {},
   "outputs": [
    {
     "name": "stdout",
     "output_type": "stream",
     "text": [
      "AUC Score:  1.0\n"
     ]
    }
   ],
   "source": [
    "# Predict the response for test dataset\n",
    "y_pred = clf_rfc.predict_proba(X_test)[:, -1]\n",
    "\n",
    "# Area Under the Curve, the higher the better\n",
    "auc = metrics.roc_auc_score(y_test, y_pred)\n",
    "print(\"AUC Score: \", auc)"
   ]
  },
  {
   "cell_type": "code",
   "execution_count": 7,
   "id": "3f56c265",
   "metadata": {},
   "outputs": [],
   "source": [
    "test = test_df[features]\n",
    "\n",
    "confidences = clf_rfc.predict_proba(test)[:,-1]\n",
    "\n",
    "confidences = [0 if x < 0.000001 else x for x in confidences]\n",
    "confidences = [\"{:f}\".format(x) for x in confidences]\n",
    "\n",
    "submit = pd.DataFrame()\n",
    "\n",
    "submit[\"Id\"] = test_df[\"loan_id\"]\n",
    "submit[\"Predicted\"] = confidences\n",
    "\n",
    "submit.to_csv(\"rf_python.csv\", sep=\",\", index=False)"
   ]
  },
  {
   "cell_type": "markdown",
   "id": "8025df13",
   "metadata": {},
   "source": [
    "## Neural Network"
   ]
  },
  {
   "cell_type": "code",
   "execution_count": 67,
   "id": "2630938e",
   "metadata": {},
   "outputs": [
    {
     "name": "stdout",
     "output_type": "stream",
     "text": [
      "11/11 [==============================] - 0s 455us/step - loss: 30.5464 - auc_41: 0.7935\n",
      "AUC: 0.79\n"
     ]
    }
   ],
   "source": [
    "from keras.models import Sequential\n",
    "from keras.layers import Dense\n",
    "import keras\n",
    "\n",
    "# define the keras model\n",
    "model = Sequential()\n",
    "model.add(Dense(18, input_dim=52, activation='relu'))\n",
    "model.add(Dense(10, activation='relu'))\n",
    "model.add(Dense(1, activation='sigmoid'))\n",
    "# compile the keras model\n",
    "model.compile(loss='binary_crossentropy', optimizer='adam', metrics=[keras.metrics.AUC()])\n",
    "# fit the keras model on the dataset\n",
    "model.fit(X, y, epochs=300, batch_size=32, verbose=0)\n",
    "# evaluate the keras model\n",
    "_, auc = model.evaluate(X, y)\n",
    "print('AUC: %.2f' % auc)\n"
   ]
  },
  {
   "cell_type": "code",
   "execution_count": 69,
   "id": "2d869269",
   "metadata": {},
   "outputs": [],
   "source": [
    "confidences = model.predict_proba(test)[:,-1]\n",
    "\n",
    "confidences = [0 if x < 0.000001 else x for x in confidences]\n",
    "confidences = [\"{:f}\".format(x) for x in confidences]\n",
    "\n",
    "submit = pd.DataFrame()\n",
    "\n",
    "submit[\"Id\"] = test_df[\"loan_id\"]\n",
    "submit[\"Predicted\"] = confidences\n",
    "\n",
    "submit.to_csv(\"neuralnet_python.csv\", sep=\",\", index=False)"
   ]
  },
  {
   "cell_type": "code",
   "execution_count": null,
   "id": "0f8b32c1",
   "metadata": {},
   "outputs": [],
   "source": []
  }
 ],
 "metadata": {
  "kernelspec": {
   "display_name": "Python 3",
   "language": "python",
   "name": "python3"
  },
  "language_info": {
   "codemirror_mode": {
    "name": "ipython",
    "version": 3
   },
   "file_extension": ".py",
   "mimetype": "text/x-python",
   "name": "python",
   "nbconvert_exporter": "python",
   "pygments_lexer": "ipython3",
   "version": "3.8.8"
  }
 },
 "nbformat": 4,
 "nbformat_minor": 5
}
