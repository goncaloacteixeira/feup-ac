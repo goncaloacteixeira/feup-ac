{
 "cells": [
  {
   "cell_type": "code",
   "execution_count": 1,
   "id": "6efa49aa",
   "metadata": {},
   "outputs": [],
   "source": [
    "import pandas as pd\n",
    "import seaborn as sns\n",
    "import matplotlib.pyplot as plt    \n",
    "import numpy as np\n",
    "from sklearn.model_selection import GridSearchCV, train_test_split\n",
    "from sklearn.neighbors import KNeighborsClassifier\n",
    "from sklearn.ensemble import RandomForestClassifier\n",
    "from sklearn.tree import DecisionTreeClassifier\n",
    "from sklearn.neural_network import MLPClassifier\n",
    "import xgboost as xgb\n",
    "from sklearn.svm import SVC\n",
    "from sklearn import metrics\n",
    "from sklearn.model_selection import RepeatedStratifiedKFold"
   ]
  },
  {
   "cell_type": "code",
   "execution_count": 2,
   "id": "09443efd",
   "metadata": {
    "scrolled": false
   },
   "outputs": [],
   "source": [
    "train_train_df = pd.read_csv(\"train_93_95.csv\", sep=\",\")\n",
    "train_test_df = pd.read_csv(\"train_96.csv\", sep=\",\")\n",
    "train_df = pd.read_csv(\"train.csv\", sep=\",\")\n",
    "test_df = pd.read_csv(\"test.csv\", sep=\",\")\n",
    "\n",
    "# removing correlated features with corr>0.98\n",
    "correlated_features = set()\n",
    "correlation_matrix = train_df.corr()\n",
    "for i in range(len(correlation_matrix.columns)):\n",
    "    for j in range(i):\n",
    "        if abs(correlation_matrix.iloc[i, j]) > 0.98:\n",
    "            colname = correlation_matrix.columns[i]\n",
    "            correlated_features.add(colname)\n",
    "            \n",
    "train_df.drop(columns=correlated_features, axis=1, inplace=True)\n",
    "test_df.drop(columns=correlated_features, axis=1, inplace=True)"
   ]
  },
  {
   "cell_type": "code",
   "execution_count": 3,
   "id": "1eb47d73",
   "metadata": {},
   "outputs": [],
   "source": [
    "unwanted_features = [\"status\", \"loan_id\"]\n",
    "features = [x for x in list(train_df) if x not in unwanted_features]\n",
    "target = \"status\"\n",
    "\n",
    "X = train_df[features]\n",
    "y = train_df[target]\n",
    "\n",
    "X_test = train_test_df[features]\n",
    "y_test = train_test_df[target]\n",
    "\n",
    "X, X_test, y, y_test = train_test_split(X, y, test_size=0.2)"
   ]
  },
  {
   "cell_type": "markdown",
   "id": "822425f8",
   "metadata": {},
   "source": [
    "## Function to train a model using Grid Search Cross Validation"
   ]
  },
  {
   "cell_type": "code",
   "execution_count": 4,
   "id": "16d41fb5",
   "metadata": {},
   "outputs": [],
   "source": [
    "def train_model(X, y, classifier, param_grid, cv=5):\n",
    "#     # define model evaluation method\n",
    "#     cv = RepeatedStratifiedKFold(n_splits=5, n_repeats=2, random_state=1)\n",
    "    \n",
    "    grid = GridSearchCV(estimator=classifier, \n",
    "                        param_grid=param_grid, \n",
    "                        n_jobs=-1, \n",
    "                        cv=cv, \n",
    "                        scoring='roc_auc',\n",
    "                        verbose=2, \n",
    "                        refit=True)\n",
    "    \n",
    "    grid = grid.fit(X, y)\n",
    "    print(\"Best Score:\", grid.best_score_)\n",
    "    print(\"Best Params:\", grid.best_params_)\n",
    "    \n",
    "    return grid.best_estimator_"
   ]
  },
  {
   "cell_type": "markdown",
   "id": "1a454ec9",
   "metadata": {},
   "source": [
    "## Function to Evaluate the Model with AUC and Confusion Matrix"
   ]
  },
  {
   "cell_type": "code",
   "execution_count": 5,
   "id": "8254b0fa",
   "metadata": {},
   "outputs": [],
   "source": [
    "def evaluate(model, X_test, y_test):\n",
    "    y_pred = model.predict_proba(X_test)\n",
    "    \n",
    "    # Area Under the Curve, the higher the better\n",
    "    auc = metrics.roc_auc_score(y_test, y_pred[:,-1])\n",
    "    print(\"AUC Score: \", auc)\n",
    "\n",
    "    y_pred_normalized = np.argmax(model.predict_proba(X_test), axis=1)\n",
    "\n",
    "    cm = metrics.confusion_matrix(y_test, y_pred_normalized)\n",
    "    ax= plt.subplot()\n",
    "    sns.heatmap(cm, annot=True, fmt='g', ax=ax);  #annot=True to annotate cells, ftm='g' to disable scientific notation\n",
    "\n",
    "    # labels, title and ticks\n",
    "    ax.set_xlabel('Predicted labels');ax.set_ylabel('True labels'); \n",
    "    ax.set_title('Confusion Matrix'); \n",
    "    ax.xaxis.set_ticklabels(['yes', 'no']); ax.yaxis.set_ticklabels(['yes', 'no']);\n",
    "    \n",
    "    return y_pred[:,-1]"
   ]
  },
  {
   "cell_type": "markdown",
   "id": "40612592",
   "metadata": {},
   "source": [
    "## Function to export the test predicted data"
   ]
  },
  {
   "cell_type": "code",
   "execution_count": 6,
   "id": "d4868262",
   "metadata": {},
   "outputs": [],
   "source": [
    "def test_export(model, test_df, file):\n",
    "    test = test_df[features]\n",
    "\n",
    "    confidences = model.predict_proba(test)[:,-1]\n",
    "\n",
    "    confidences = [0 if x < 0.000001 else x for x in confidences]\n",
    "    confidences = [\"{:f}\".format(x) for x in confidences]\n",
    "\n",
    "    submit = pd.DataFrame()\n",
    "\n",
    "    submit[\"Id\"] = test_df[\"loan_id\"]\n",
    "    submit[\"Predicted\"] = confidences\n",
    "\n",
    "    submit.to_csv(file + \".csv\", sep=\",\", index=False)\n",
    "    \n",
    "    return \"Done exporting to: \" + file + \".csv\""
   ]
  },
  {
   "cell_type": "markdown",
   "id": "47148799",
   "metadata": {},
   "source": [
    "# Model Training"
   ]
  },
  {
   "cell_type": "markdown",
   "id": "f6275eca",
   "metadata": {},
   "source": [
    "## 1. Random Forest Classifier"
   ]
  },
  {
   "cell_type": "code",
   "execution_count": 7,
   "id": "ca6e2fdb",
   "metadata": {
    "scrolled": true
   },
   "outputs": [
    {
     "name": "stdout",
     "output_type": "stream",
     "text": [
      "Fitting 5 folds for each of 360 candidates, totalling 1800 fits\n",
      "Best Score: 0.8390746753246752\n",
      "Best Params: {'bootstrap': True, 'criterion': 'entropy', 'max_depth': 10, 'max_features': 'log2', 'min_samples_leaf': 1, 'min_samples_split': 2, 'n_estimators': 150}\n",
      "AUC Score:  0.7887931034482759\n"
     ]
    },
    {
     "data": {
      "text/plain": [
       "'Done exporting to: rfc_submit.csv'"
      ]
     },
     "execution_count": 7,
     "metadata": {},
     "output_type": "execute_result"
    },
    {
     "data": {
      "image/png": "[encoded data removed]",
      "text/plain": [
       "<Figure size 432x288 with 2 Axes>"
      ]
     },
     "metadata": {
      "needs_background": "light"
     },
     "output_type": "display_data"
    }
   ],
   "source": [
    "rfc = RandomForestClassifier(random_state=42)\n",
    "\n",
    "param_grid = { \n",
    "    'n_estimators': [100, 150],\n",
    "    'max_features': ['auto', 'sqrt', 'log2'],\n",
    "    'max_depth' : [8,9,10,11,12],\n",
    "    'criterion' :['gini', 'entropy'],\n",
    "    'bootstrap': [True],\n",
    "    'min_samples_leaf': [1,2,3],\n",
    "    'min_samples_split': [2,3],\n",
    "}\n",
    "\n",
    "model = train_model(X, y, rfc, param_grid, cv=5)\n",
    "\n",
    "y_pred_rfc = evaluate(model, X_test, y_test)\n",
    "\n",
    "test_export(model, test_df, \"rfc_submit\")"
   ]
  },
  {
   "cell_type": "markdown",
   "id": "2aec2fee",
   "metadata": {},
   "source": [
    "## 2. SVM Classifier"
   ]
  },
  {
   "cell_type": "code",
   "execution_count": null,
   "id": "2161c839",
   "metadata": {
    "scrolled": true
   },
   "outputs": [],
   "source": [
    "svm = SVC(probability=True)\n",
    "\n",
    "param_grid = {'C': [1, 10, 50, 100],\n",
    "              'gamma': [0.5, 0.1, 0.01, 0.001, 0.0001],\n",
    "              'kernel': ['poly'],\n",
    "               'degree': [1, 2]}\n",
    " \n",
    "model = train_model(X, y, svm, param_grid)\n",
    " \n",
    "y_pred_svm = evaluate(model, X_test, y_test)\n",
    "    \n",
    "test_export(model, test_df, \"svm_submit\")"
   ]
  },
  {
   "cell_type": "markdown",
   "id": "bb21786d",
   "metadata": {},
   "source": [
    "## 3. XGBoost Classifier"
   ]
  },
  {
   "cell_type": "code",
   "execution_count": 8,
   "id": "e1e790ea",
   "metadata": {},
   "outputs": [
    {
     "name": "stdout",
     "output_type": "stream",
     "text": [
      "Fitting 4 folds for each of 144 candidates, totalling 576 fits\n",
      "Best Score: 0.7955357142857142\n",
      "Best Params: {'colsample_bytree': 0.9, 'learning_rate': 0.1, 'max_depth': 5, 'min_child_weight': 5, 'missing': -999, 'n_estimators': 1000, 'objective': 'binary:logistic', 'seed': 46, 'subsample': 0.9}\n",
      "AUC Score:  0.6875\n"
     ]
    },
    {
     "data": {
      "text/plain": [
       "'Done exporting to: xgb_submit.csv'"
      ]
     },
     "execution_count": 8,
     "metadata": {},
     "output_type": "execute_result"
    },
    {
     "data": {
      "image/png": "[encoded data removed]",
      "text/plain": [
       "<Figure size 432x288 with 2 Axes>"
      ]
     },
     "metadata": {
      "needs_background": "light"
     },
     "output_type": "display_data"
    }
   ],
   "source": [
    "xgb = xgb.XGBClassifier(use_label_encoder=False,eval_metric='auc')\n",
    "\n",
    "param_grid = {#'nthread':[4], #when use hyperthread, xgboost may become slower\n",
    "              'objective':['binary:logistic'],\n",
    "              'learning_rate': [0.1, 0.25],\n",
    "              'max_depth': [5,6,8,10],\n",
    "              'min_child_weight': [10, 5, 6],\n",
    "              'subsample': [0.85, 0.8, 0.9],\n",
    "              'colsample_bytree': [0.8, 0.9],\n",
    "              'n_estimators': [1000],\n",
    "              'missing':[-999],\n",
    "              'seed': [46]}\n",
    "\n",
    "model = train_model(X, y, xgb, param_grid, cv=4)\n",
    "\n",
    "y_pred_xgb = evaluate(model, X_test, y_test)\n",
    "\n",
    "test_export(model, test_df, \"xgb_submit\")"
   ]
  },
  {
   "cell_type": "markdown",
   "id": "8025df13",
   "metadata": {},
   "source": [
    "## 4. Neural Network"
   ]
  },
  {
   "cell_type": "code",
   "execution_count": 10,
   "id": "2630938e",
   "metadata": {
    "scrolled": false
   },
   "outputs": [
    {
     "name": "stdout",
     "output_type": "stream",
     "text": [
      "7/7 [==============================] - 0s 429us/step - loss: 1.1522 - auc_1: 0.9305\n",
      "AUC: 0.93\n"
     ]
    }
   ],
   "source": [
    "from keras.models import Sequential\n",
    "from keras.layers import Dense\n",
    "import keras\n",
    "\n",
    "X = train_train_df[features]\n",
    "y = train_train_df[target]\n",
    "\n",
    "# define the keras model\n",
    "model = Sequential()\n",
    "model.add(Dense(32, input_dim=42, activation='relu'))\n",
    "model.add(Dense(8, activation='relu'))\n",
    "model.add(Dense(1, activation='sigmoid'))\n",
    "# compile the keras model\n",
    "model.compile(loss='binary_crossentropy', optimizer='adam', metrics=[keras.metrics.AUC()])\n",
    "# fit the keras model on the dataset\n",
    "model.fit(X, y, epochs=300, batch_size=32, verbose=0)\n",
    "# evaluate the keras model\n",
    "_, auc = model.evaluate(X, y)\n",
    "print('AUC: %.2f' % auc)\n"
   ]
  },
  {
   "cell_type": "code",
   "execution_count": 11,
   "id": "51dea972",
   "metadata": {},
   "outputs": [
    {
     "name": "stdout",
     "output_type": "stream",
     "text": [
      "WARNING:tensorflow:From C:\\Users\\gonca\\AppData\\Local\\Temp/ipykernel_9116/808821042.py:2: Sequential.predict_proba (from tensorflow.python.keras.engine.sequential) is deprecated and will be removed after 2021-01-01.\n",
      "Instructions for updating:\n",
      "Please use `model.predict()` instead.\n",
      "AUC Score:  0.9137931034482759\n"
     ]
    },
    {
     "data": {
      "text/plain": [
       "'Done exporting to: neural_network_submit.csv'"
      ]
     },
     "execution_count": 11,
     "metadata": {},
     "output_type": "execute_result"
    },
    {
     "data": {
      "image/png": "[encoded data removed]",
      "text/plain": [
       "<Figure size 432x288 with 2 Axes>"
      ]
     },
     "metadata": {
      "needs_background": "light"
     },
     "output_type": "display_data"
    }
   ],
   "source": [
    "y_pred_neural = evaluate(model, X_test, y_test)\n",
    "\n",
    "test_export(model, test_df, \"neural_network_submit\")"
   ]
  },
  {
   "cell_type": "markdown",
   "id": "807ac09a",
   "metadata": {},
   "source": [
    "## 5. K Nearest Neighbors"
   ]
  },
  {
   "cell_type": "code",
   "execution_count": 12,
   "id": "b3619312",
   "metadata": {},
   "outputs": [
    {
     "name": "stdout",
     "output_type": "stream",
     "text": [
      "Fitting 20 folds for each of 30 candidates, totalling 600 fits\n",
      "Best Score: 0.7183333333333334\n",
      "Best Params: {'n_neighbors': 27}\n",
      "AUC Score:  0.5818965517241379\n"
     ]
    },
    {
     "data": {
      "text/plain": [
       "'Done exporting to: knn_submit.csv'"
      ]
     },
     "execution_count": 12,
     "metadata": {},
     "output_type": "execute_result"
    },
    {
     "data": {
      "image/png": "[encoded data removed]",
      "text/plain": [
       "<Figure size 432x288 with 2 Axes>"
      ]
     },
     "metadata": {
      "needs_background": "light"
     },
     "output_type": "display_data"
    }
   ],
   "source": [
    "knn = KNeighborsClassifier()\n",
    "\n",
    "param_grid = dict(n_neighbors=list(range(1, 31)))\n",
    "  \n",
    "model = train_model(X, y, knn, param_grid, cv=20)\n",
    "\n",
    "y_pred_knn = evaluate(model, X_test, y_test)\n",
    "\n",
    "test_export(model, test_df, \"knn_submit\")"
   ]
  },
  {
   "cell_type": "markdown",
   "id": "b23f054e",
   "metadata": {},
   "source": [
    "## 6. Decision Tree Classifier"
   ]
  },
  {
   "cell_type": "code",
   "execution_count": 13,
   "id": "50d2be21",
   "metadata": {},
   "outputs": [
    {
     "name": "stdout",
     "output_type": "stream",
     "text": [
      "Fitting 5 folds for each of 1520 candidates, totalling 7600 fits\n",
      "Best Score: 0.7888763763763764\n",
      "Best Params: {'criterion': 'gini', 'max_depth': 9, 'min_samples_leaf': 4, 'min_samples_split': 3}\n",
      "AUC Score:  0.8987068965517242\n"
     ]
    },
    {
     "data": {
      "text/plain": [
       "'Done exporting to: dtc_submit.csv'"
      ]
     },
     "execution_count": 13,
     "metadata": {},
     "output_type": "execute_result"
    },
    {
     "data": {
      "image/png": "[encoded data removed]",
      "text/plain": [
       "<Figure size 432x288 with 2 Axes>"
      ]
     },
     "metadata": {
      "needs_background": "light"
     },
     "output_type": "display_data"
    }
   ],
   "source": [
    "dtc = DecisionTreeClassifier()\n",
    "\n",
    "param_grid = {'criterion': ['gini', 'entropy'],\n",
    "             'max_depth': range(1,20),\n",
    "             'min_samples_split': range(2,10),\n",
    "             'min_samples_leaf': range(1,6)}\n",
    "\n",
    "model = train_model(X, y, dtc, param_grid, cv=5)\n",
    "\n",
    "y_pred_dtc = evaluate(model, X_test, y_test)\n",
    "\n",
    "test_export(model, test_df, \"dtc_submit\")"
   ]
  },
  {
   "cell_type": "markdown",
   "id": "3016ead2",
   "metadata": {},
   "source": [
    "## 7. Gaussian Process Classifier"
   ]
  },
  {
   "cell_type": "code",
   "execution_count": 14,
   "id": "fb5eb005",
   "metadata": {},
   "outputs": [
    {
     "name": "stdout",
     "output_type": "stream",
     "text": [
      "Best Mean Accuracy: 0.700\n",
      "Best Config: {'kernel': 1**2 * RationalQuadratic(alpha=1, length_scale=1)}\n",
      ">0.500 with: {'kernel': 1**2 * RBF(length_scale=1)}\n",
      ">nan with: {'kernel': 1**2 * DotProduct(sigma_0=1)}\n",
      ">0.500 with: {'kernel': 1**2 * Matern(length_scale=1, nu=1.5)}\n",
      ">0.700 with: {'kernel': 1**2 * RationalQuadratic(alpha=1, length_scale=1)}\n",
      ">0.500 with: {'kernel': 1**2 * WhiteKernel(noise_level=1)}\n",
      "AUC Score:  0.9310344827586207\n"
     ]
    },
    {
     "name": "stderr",
     "output_type": "stream",
     "text": [
      "C:\\Users\\gonca\\anaconda3\\lib\\site-packages\\sklearn\\model_selection\\_validation.py:372: FitFailedWarning: \n",
      "13 fits failed out of a total of 150.\n",
      "The score on these train-test partitions for these parameters will be set to nan.\n",
      "If these failures are not expected, you can try to debug them by setting error_score='raise'.\n",
      "\n",
      "Below are more details about the failures:\n",
      "--------------------------------------------------------------------------------\n",
      "2 fits failed with the following error:\n",
      "Traceback (most recent call last):\n",
      "  File \"C:\\Users\\gonca\\anaconda3\\lib\\site-packages\\sklearn\\model_selection\\_validation.py\", line 681, in _fit_and_score\n",
      "    estimator.fit(X_train, y_train, **fit_params)\n",
      "  File \"C:\\Users\\gonca\\anaconda3\\lib\\site-packages\\sklearn\\gaussian_process\\_gpc.py\", line 715, in fit\n",
      "    self.base_estimator_.fit(X, y)\n",
      "  File \"C:\\Users\\gonca\\anaconda3\\lib\\site-packages\\sklearn\\gaussian_process\\_gpc.py\", line 224, in fit\n",
      "    self._constrained_optimization(\n",
      "  File \"C:\\Users\\gonca\\anaconda3\\lib\\site-packages\\sklearn\\gaussian_process\\_gpc.py\", line 469, in _constrained_optimization\n",
      "    opt_res = scipy.optimize.minimize(\n",
      "  File \"C:\\Users\\gonca\\anaconda3\\lib\\site-packages\\scipy\\optimize\\_minimize.py\", line 623, in minimize\n",
      "    return _minimize_lbfgsb(fun, x0, args, jac, bounds,\n",
      "  File \"C:\\Users\\gonca\\anaconda3\\lib\\site-packages\\scipy\\optimize\\lbfgsb.py\", line 360, in _minimize_lbfgsb\n",
      "    f, g = func_and_grad(x)\n",
      "  File \"C:\\Users\\gonca\\anaconda3\\lib\\site-packages\\scipy\\optimize\\_differentiable_functions.py\", line 267, in fun_and_grad\n",
      "    self._update_fun()\n",
      "  File \"C:\\Users\\gonca\\anaconda3\\lib\\site-packages\\scipy\\optimize\\_differentiable_functions.py\", line 233, in _update_fun\n",
      "    self._update_fun_impl()\n",
      "  File \"C:\\Users\\gonca\\anaconda3\\lib\\site-packages\\scipy\\optimize\\_differentiable_functions.py\", line 137, in update_fun\n",
      "    self.f = fun_wrapped(self.x)\n",
      "  File \"C:\\Users\\gonca\\anaconda3\\lib\\site-packages\\scipy\\optimize\\_differentiable_functions.py\", line 134, in fun_wrapped\n",
      "    return fun(np.copy(x), *args)\n",
      "  File \"C:\\Users\\gonca\\anaconda3\\lib\\site-packages\\scipy\\optimize\\optimize.py\", line 74, in __call__\n",
      "    self._compute_if_needed(x, *args)\n",
      "  File \"C:\\Users\\gonca\\anaconda3\\lib\\site-packages\\scipy\\optimize\\optimize.py\", line 68, in _compute_if_needed\n",
      "    fg = self.fun(x, *args)\n",
      "  File \"C:\\Users\\gonca\\anaconda3\\lib\\site-packages\\sklearn\\gaussian_process\\_gpc.py\", line 215, in obj_func\n",
      "    lml, grad = self.log_marginal_likelihood(\n",
      "  File \"C:\\Users\\gonca\\anaconda3\\lib\\site-packages\\sklearn\\gaussian_process\\_gpc.py\", line 380, in log_marginal_likelihood\n",
      "    Z, (pi, W_sr, L, b, a) = self._posterior_mode(K, return_temporaries=True)\n",
      "  File \"C:\\Users\\gonca\\anaconda3\\lib\\site-packages\\sklearn\\gaussian_process\\_gpc.py\", line 439, in _posterior_mode\n",
      "    L = cholesky(B, lower=True)\n",
      "  File \"C:\\Users\\gonca\\anaconda3\\lib\\site-packages\\scipy\\linalg\\decomp_cholesky.py\", line 88, in cholesky\n",
      "    c, lower = _cholesky(a, lower=lower, overwrite_a=overwrite_a, clean=True,\n",
      "  File \"C:\\Users\\gonca\\anaconda3\\lib\\site-packages\\scipy\\linalg\\decomp_cholesky.py\", line 37, in _cholesky\n",
      "    raise LinAlgError(\"%d-th leading minor of the array is not positive \"\n",
      "numpy.linalg.LinAlgError: 45-th leading minor of the array is not positive definite\n",
      "\n",
      "--------------------------------------------------------------------------------\n",
      "4 fits failed with the following error:\n",
      "Traceback (most recent call last):\n",
      "  File \"C:\\Users\\gonca\\anaconda3\\lib\\site-packages\\sklearn\\model_selection\\_validation.py\", line 681, in _fit_and_score\n",
      "    estimator.fit(X_train, y_train, **fit_params)\n",
      "  File \"C:\\Users\\gonca\\anaconda3\\lib\\site-packages\\sklearn\\gaussian_process\\_gpc.py\", line 715, in fit\n",
      "    self.base_estimator_.fit(X, y)\n",
      "  File \"C:\\Users\\gonca\\anaconda3\\lib\\site-packages\\sklearn\\gaussian_process\\_gpc.py\", line 224, in fit\n",
      "    self._constrained_optimization(\n",
      "  File \"C:\\Users\\gonca\\anaconda3\\lib\\site-packages\\sklearn\\gaussian_process\\_gpc.py\", line 469, in _constrained_optimization\n",
      "    opt_res = scipy.optimize.minimize(\n",
      "  File \"C:\\Users\\gonca\\anaconda3\\lib\\site-packages\\scipy\\optimize\\_minimize.py\", line 623, in minimize\n",
      "    return _minimize_lbfgsb(fun, x0, args, jac, bounds,\n",
      "  File \"C:\\Users\\gonca\\anaconda3\\lib\\site-packages\\scipy\\optimize\\lbfgsb.py\", line 360, in _minimize_lbfgsb\n",
      "    f, g = func_and_grad(x)\n",
      "  File \"C:\\Users\\gonca\\anaconda3\\lib\\site-packages\\scipy\\optimize\\_differentiable_functions.py\", line 267, in fun_and_grad\n",
      "    self._update_fun()\n",
      "  File \"C:\\Users\\gonca\\anaconda3\\lib\\site-packages\\scipy\\optimize\\_differentiable_functions.py\", line 233, in _update_fun\n",
      "    self._update_fun_impl()\n",
      "  File \"C:\\Users\\gonca\\anaconda3\\lib\\site-packages\\scipy\\optimize\\_differentiable_functions.py\", line 137, in update_fun\n",
      "    self.f = fun_wrapped(self.x)\n",
      "  File \"C:\\Users\\gonca\\anaconda3\\lib\\site-packages\\scipy\\optimize\\_differentiable_functions.py\", line 134, in fun_wrapped\n",
      "    return fun(np.copy(x), *args)\n",
      "  File \"C:\\Users\\gonca\\anaconda3\\lib\\site-packages\\scipy\\optimize\\optimize.py\", line 74, in __call__\n",
      "    self._compute_if_needed(x, *args)\n",
      "  File \"C:\\Users\\gonca\\anaconda3\\lib\\site-packages\\scipy\\optimize\\optimize.py\", line 68, in _compute_if_needed\n",
      "    fg = self.fun(x, *args)\n",
      "  File \"C:\\Users\\gonca\\anaconda3\\lib\\site-packages\\sklearn\\gaussian_process\\_gpc.py\", line 215, in obj_func\n",
      "    lml, grad = self.log_marginal_likelihood(\n",
      "  File \"C:\\Users\\gonca\\anaconda3\\lib\\site-packages\\sklearn\\gaussian_process\\_gpc.py\", line 380, in log_marginal_likelihood\n",
      "    Z, (pi, W_sr, L, b, a) = self._posterior_mode(K, return_temporaries=True)\n",
      "  File \"C:\\Users\\gonca\\anaconda3\\lib\\site-packages\\sklearn\\gaussian_process\\_gpc.py\", line 439, in _posterior_mode\n",
      "    L = cholesky(B, lower=True)\n",
      "  File \"C:\\Users\\gonca\\anaconda3\\lib\\site-packages\\scipy\\linalg\\decomp_cholesky.py\", line 88, in cholesky\n",
      "    c, lower = _cholesky(a, lower=lower, overwrite_a=overwrite_a, clean=True,\n",
      "  File \"C:\\Users\\gonca\\anaconda3\\lib\\site-packages\\scipy\\linalg\\decomp_cholesky.py\", line 37, in _cholesky\n",
      "    raise LinAlgError(\"%d-th leading minor of the array is not positive \"\n",
      "numpy.linalg.LinAlgError: 49-th leading minor of the array is not positive definite\n",
      "\n",
      "--------------------------------------------------------------------------------\n",
      "1 fits failed with the following error:\n",
      "Traceback (most recent call last):\n",
      "  File \"C:\\Users\\gonca\\anaconda3\\lib\\site-packages\\sklearn\\model_selection\\_validation.py\", line 681, in _fit_and_score\n",
      "    estimator.fit(X_train, y_train, **fit_params)\n",
      "  File \"C:\\Users\\gonca\\anaconda3\\lib\\site-packages\\sklearn\\gaussian_process\\_gpc.py\", line 715, in fit\n",
      "    self.base_estimator_.fit(X, y)\n",
      "  File \"C:\\Users\\gonca\\anaconda3\\lib\\site-packages\\sklearn\\gaussian_process\\_gpc.py\", line 224, in fit\n",
      "    self._constrained_optimization(\n",
      "  File \"C:\\Users\\gonca\\anaconda3\\lib\\site-packages\\sklearn\\gaussian_process\\_gpc.py\", line 469, in _constrained_optimization\n",
      "    opt_res = scipy.optimize.minimize(\n",
      "  File \"C:\\Users\\gonca\\anaconda3\\lib\\site-packages\\scipy\\optimize\\_minimize.py\", line 623, in minimize\n",
      "    return _minimize_lbfgsb(fun, x0, args, jac, bounds,\n",
      "  File \"C:\\Users\\gonca\\anaconda3\\lib\\site-packages\\scipy\\optimize\\lbfgsb.py\", line 360, in _minimize_lbfgsb\n",
      "    f, g = func_and_grad(x)\n",
      "  File \"C:\\Users\\gonca\\anaconda3\\lib\\site-packages\\scipy\\optimize\\_differentiable_functions.py\", line 267, in fun_and_grad\n",
      "    self._update_fun()\n",
      "  File \"C:\\Users\\gonca\\anaconda3\\lib\\site-packages\\scipy\\optimize\\_differentiable_functions.py\", line 233, in _update_fun\n",
      "    self._update_fun_impl()\n",
      "  File \"C:\\Users\\gonca\\anaconda3\\lib\\site-packages\\scipy\\optimize\\_differentiable_functions.py\", line 137, in update_fun\n",
      "    self.f = fun_wrapped(self.x)\n",
      "  File \"C:\\Users\\gonca\\anaconda3\\lib\\site-packages\\scipy\\optimize\\_differentiable_functions.py\", line 134, in fun_wrapped\n",
      "    return fun(np.copy(x), *args)\n",
      "  File \"C:\\Users\\gonca\\anaconda3\\lib\\site-packages\\scipy\\optimize\\optimize.py\", line 74, in __call__\n",
      "    self._compute_if_needed(x, *args)\n",
      "  File \"C:\\Users\\gonca\\anaconda3\\lib\\site-packages\\scipy\\optimize\\optimize.py\", line 68, in _compute_if_needed\n",
      "    fg = self.fun(x, *args)\n",
      "  File \"C:\\Users\\gonca\\anaconda3\\lib\\site-packages\\sklearn\\gaussian_process\\_gpc.py\", line 215, in obj_func\n",
      "    lml, grad = self.log_marginal_likelihood(\n",
      "  File \"C:\\Users\\gonca\\anaconda3\\lib\\site-packages\\sklearn\\gaussian_process\\_gpc.py\", line 380, in log_marginal_likelihood\n",
      "    Z, (pi, W_sr, L, b, a) = self._posterior_mode(K, return_temporaries=True)\n",
      "  File \"C:\\Users\\gonca\\anaconda3\\lib\\site-packages\\sklearn\\gaussian_process\\_gpc.py\", line 439, in _posterior_mode\n",
      "    L = cholesky(B, lower=True)\n",
      "  File \"C:\\Users\\gonca\\anaconda3\\lib\\site-packages\\scipy\\linalg\\decomp_cholesky.py\", line 88, in cholesky\n",
      "    c, lower = _cholesky(a, lower=lower, overwrite_a=overwrite_a, clean=True,\n",
      "  File \"C:\\Users\\gonca\\anaconda3\\lib\\site-packages\\scipy\\linalg\\decomp_cholesky.py\", line 37, in _cholesky\n",
      "    raise LinAlgError(\"%d-th leading minor of the array is not positive \"\n",
      "numpy.linalg.LinAlgError: 59-th leading minor of the array is not positive definite\n",
      "\n",
      "--------------------------------------------------------------------------------\n",
      "2 fits failed with the following error:\n",
      "Traceback (most recent call last):\n",
      "  File \"C:\\Users\\gonca\\anaconda3\\lib\\site-packages\\sklearn\\model_selection\\_validation.py\", line 681, in _fit_and_score\n",
      "    estimator.fit(X_train, y_train, **fit_params)\n",
      "  File \"C:\\Users\\gonca\\anaconda3\\lib\\site-packages\\sklearn\\gaussian_process\\_gpc.py\", line 715, in fit\n",
      "    self.base_estimator_.fit(X, y)\n",
      "  File \"C:\\Users\\gonca\\anaconda3\\lib\\site-packages\\sklearn\\gaussian_process\\_gpc.py\", line 224, in fit\n",
      "    self._constrained_optimization(\n",
      "  File \"C:\\Users\\gonca\\anaconda3\\lib\\site-packages\\sklearn\\gaussian_process\\_gpc.py\", line 469, in _constrained_optimization\n",
      "    opt_res = scipy.optimize.minimize(\n",
      "  File \"C:\\Users\\gonca\\anaconda3\\lib\\site-packages\\scipy\\optimize\\_minimize.py\", line 623, in minimize\n",
      "    return _minimize_lbfgsb(fun, x0, args, jac, bounds,\n",
      "  File \"C:\\Users\\gonca\\anaconda3\\lib\\site-packages\\scipy\\optimize\\lbfgsb.py\", line 360, in _minimize_lbfgsb\n",
      "    f, g = func_and_grad(x)\n",
      "  File \"C:\\Users\\gonca\\anaconda3\\lib\\site-packages\\scipy\\optimize\\_differentiable_functions.py\", line 267, in fun_and_grad\n",
      "    self._update_fun()\n",
      "  File \"C:\\Users\\gonca\\anaconda3\\lib\\site-packages\\scipy\\optimize\\_differentiable_functions.py\", line 233, in _update_fun\n",
      "    self._update_fun_impl()\n",
      "  File \"C:\\Users\\gonca\\anaconda3\\lib\\site-packages\\scipy\\optimize\\_differentiable_functions.py\", line 137, in update_fun\n",
      "    self.f = fun_wrapped(self.x)\n",
      "  File \"C:\\Users\\gonca\\anaconda3\\lib\\site-packages\\scipy\\optimize\\_differentiable_functions.py\", line 134, in fun_wrapped\n",
      "    return fun(np.copy(x), *args)\n",
      "  File \"C:\\Users\\gonca\\anaconda3\\lib\\site-packages\\scipy\\optimize\\optimize.py\", line 74, in __call__\n",
      "    self._compute_if_needed(x, *args)\n",
      "  File \"C:\\Users\\gonca\\anaconda3\\lib\\site-packages\\scipy\\optimize\\optimize.py\", line 68, in _compute_if_needed\n",
      "    fg = self.fun(x, *args)\n",
      "  File \"C:\\Users\\gonca\\anaconda3\\lib\\site-packages\\sklearn\\gaussian_process\\_gpc.py\", line 215, in obj_func\n",
      "    lml, grad = self.log_marginal_likelihood(\n",
      "  File \"C:\\Users\\gonca\\anaconda3\\lib\\site-packages\\sklearn\\gaussian_process\\_gpc.py\", line 380, in log_marginal_likelihood\n",
      "    Z, (pi, W_sr, L, b, a) = self._posterior_mode(K, return_temporaries=True)\n",
      "  File \"C:\\Users\\gonca\\anaconda3\\lib\\site-packages\\sklearn\\gaussian_process\\_gpc.py\", line 439, in _posterior_mode\n",
      "    L = cholesky(B, lower=True)\n",
      "  File \"C:\\Users\\gonca\\anaconda3\\lib\\site-packages\\scipy\\linalg\\decomp_cholesky.py\", line 88, in cholesky\n",
      "    c, lower = _cholesky(a, lower=lower, overwrite_a=overwrite_a, clean=True,\n",
      "  File \"C:\\Users\\gonca\\anaconda3\\lib\\site-packages\\scipy\\linalg\\decomp_cholesky.py\", line 37, in _cholesky\n",
      "    raise LinAlgError(\"%d-th leading minor of the array is not positive \"\n",
      "numpy.linalg.LinAlgError: 50-th leading minor of the array is not positive definite\n",
      "\n",
      "--------------------------------------------------------------------------------\n",
      "1 fits failed with the following error:\n",
      "Traceback (most recent call last):\n",
      "  File \"C:\\Users\\gonca\\anaconda3\\lib\\site-packages\\sklearn\\model_selection\\_validation.py\", line 681, in _fit_and_score\n",
      "    estimator.fit(X_train, y_train, **fit_params)\n",
      "  File \"C:\\Users\\gonca\\anaconda3\\lib\\site-packages\\sklearn\\gaussian_process\\_gpc.py\", line 715, in fit\n",
      "    self.base_estimator_.fit(X, y)\n",
      "  File \"C:\\Users\\gonca\\anaconda3\\lib\\site-packages\\sklearn\\gaussian_process\\_gpc.py\", line 224, in fit\n",
      "    self._constrained_optimization(\n",
      "  File \"C:\\Users\\gonca\\anaconda3\\lib\\site-packages\\sklearn\\gaussian_process\\_gpc.py\", line 469, in _constrained_optimization\n",
      "    opt_res = scipy.optimize.minimize(\n",
      "  File \"C:\\Users\\gonca\\anaconda3\\lib\\site-packages\\scipy\\optimize\\_minimize.py\", line 623, in minimize\n",
      "    return _minimize_lbfgsb(fun, x0, args, jac, bounds,\n",
      "  File \"C:\\Users\\gonca\\anaconda3\\lib\\site-packages\\scipy\\optimize\\lbfgsb.py\", line 360, in _minimize_lbfgsb\n",
      "    f, g = func_and_grad(x)\n",
      "  File \"C:\\Users\\gonca\\anaconda3\\lib\\site-packages\\scipy\\optimize\\_differentiable_functions.py\", line 267, in fun_and_grad\n",
      "    self._update_fun()\n",
      "  File \"C:\\Users\\gonca\\anaconda3\\lib\\site-packages\\scipy\\optimize\\_differentiable_functions.py\", line 233, in _update_fun\n",
      "    self._update_fun_impl()\n",
      "  File \"C:\\Users\\gonca\\anaconda3\\lib\\site-packages\\scipy\\optimize\\_differentiable_functions.py\", line 137, in update_fun\n",
      "    self.f = fun_wrapped(self.x)\n",
      "  File \"C:\\Users\\gonca\\anaconda3\\lib\\site-packages\\scipy\\optimize\\_differentiable_functions.py\", line 134, in fun_wrapped\n",
      "    return fun(np.copy(x), *args)\n",
      "  File \"C:\\Users\\gonca\\anaconda3\\lib\\site-packages\\scipy\\optimize\\optimize.py\", line 74, in __call__\n",
      "    self._compute_if_needed(x, *args)\n",
      "  File \"C:\\Users\\gonca\\anaconda3\\lib\\site-packages\\scipy\\optimize\\optimize.py\", line 68, in _compute_if_needed\n",
      "    fg = self.fun(x, *args)\n",
      "  File \"C:\\Users\\gonca\\anaconda3\\lib\\site-packages\\sklearn\\gaussian_process\\_gpc.py\", line 215, in obj_func\n",
      "    lml, grad = self.log_marginal_likelihood(\n",
      "  File \"C:\\Users\\gonca\\anaconda3\\lib\\site-packages\\sklearn\\gaussian_process\\_gpc.py\", line 380, in log_marginal_likelihood\n",
      "    Z, (pi, W_sr, L, b, a) = self._posterior_mode(K, return_temporaries=True)\n",
      "  File \"C:\\Users\\gonca\\anaconda3\\lib\\site-packages\\sklearn\\gaussian_process\\_gpc.py\", line 439, in _posterior_mode\n",
      "    L = cholesky(B, lower=True)\n",
      "  File \"C:\\Users\\gonca\\anaconda3\\lib\\site-packages\\scipy\\linalg\\decomp_cholesky.py\", line 88, in cholesky\n",
      "    c, lower = _cholesky(a, lower=lower, overwrite_a=overwrite_a, clean=True,\n",
      "  File \"C:\\Users\\gonca\\anaconda3\\lib\\site-packages\\scipy\\linalg\\decomp_cholesky.py\", line 37, in _cholesky\n",
      "    raise LinAlgError(\"%d-th leading minor of the array is not positive \"\n",
      "numpy.linalg.LinAlgError: 53-th leading minor of the array is not positive definite\n",
      "\n",
      "--------------------------------------------------------------------------------\n",
      "1 fits failed with the following error:\n",
      "Traceback (most recent call last):\n",
      "  File \"C:\\Users\\gonca\\anaconda3\\lib\\site-packages\\sklearn\\model_selection\\_validation.py\", line 681, in _fit_and_score\n",
      "    estimator.fit(X_train, y_train, **fit_params)\n",
      "  File \"C:\\Users\\gonca\\anaconda3\\lib\\site-packages\\sklearn\\gaussian_process\\_gpc.py\", line 715, in fit\n",
      "    self.base_estimator_.fit(X, y)\n",
      "  File \"C:\\Users\\gonca\\anaconda3\\lib\\site-packages\\sklearn\\gaussian_process\\_gpc.py\", line 224, in fit\n",
      "    self._constrained_optimization(\n",
      "  File \"C:\\Users\\gonca\\anaconda3\\lib\\site-packages\\sklearn\\gaussian_process\\_gpc.py\", line 469, in _constrained_optimization\n",
      "    opt_res = scipy.optimize.minimize(\n",
      "  File \"C:\\Users\\gonca\\anaconda3\\lib\\site-packages\\scipy\\optimize\\_minimize.py\", line 623, in minimize\n",
      "    return _minimize_lbfgsb(fun, x0, args, jac, bounds,\n",
      "  File \"C:\\Users\\gonca\\anaconda3\\lib\\site-packages\\scipy\\optimize\\lbfgsb.py\", line 360, in _minimize_lbfgsb\n",
      "    f, g = func_and_grad(x)\n",
      "  File \"C:\\Users\\gonca\\anaconda3\\lib\\site-packages\\scipy\\optimize\\_differentiable_functions.py\", line 267, in fun_and_grad\n",
      "    self._update_fun()\n",
      "  File \"C:\\Users\\gonca\\anaconda3\\lib\\site-packages\\scipy\\optimize\\_differentiable_functions.py\", line 233, in _update_fun\n",
      "    self._update_fun_impl()\n",
      "  File \"C:\\Users\\gonca\\anaconda3\\lib\\site-packages\\scipy\\optimize\\_differentiable_functions.py\", line 137, in update_fun\n",
      "    self.f = fun_wrapped(self.x)\n",
      "  File \"C:\\Users\\gonca\\anaconda3\\lib\\site-packages\\scipy\\optimize\\_differentiable_functions.py\", line 134, in fun_wrapped\n",
      "    return fun(np.copy(x), *args)\n",
      "  File \"C:\\Users\\gonca\\anaconda3\\lib\\site-packages\\scipy\\optimize\\optimize.py\", line 74, in __call__\n",
      "    self._compute_if_needed(x, *args)\n",
      "  File \"C:\\Users\\gonca\\anaconda3\\lib\\site-packages\\scipy\\optimize\\optimize.py\", line 68, in _compute_if_needed\n",
      "    fg = self.fun(x, *args)\n",
      "  File \"C:\\Users\\gonca\\anaconda3\\lib\\site-packages\\sklearn\\gaussian_process\\_gpc.py\", line 215, in obj_func\n",
      "    lml, grad = self.log_marginal_likelihood(\n",
      "  File \"C:\\Users\\gonca\\anaconda3\\lib\\site-packages\\sklearn\\gaussian_process\\_gpc.py\", line 380, in log_marginal_likelihood\n",
      "    Z, (pi, W_sr, L, b, a) = self._posterior_mode(K, return_temporaries=True)\n",
      "  File \"C:\\Users\\gonca\\anaconda3\\lib\\site-packages\\sklearn\\gaussian_process\\_gpc.py\", line 439, in _posterior_mode\n",
      "    L = cholesky(B, lower=True)\n",
      "  File \"C:\\Users\\gonca\\anaconda3\\lib\\site-packages\\scipy\\linalg\\decomp_cholesky.py\", line 88, in cholesky\n",
      "    c, lower = _cholesky(a, lower=lower, overwrite_a=overwrite_a, clean=True,\n",
      "  File \"C:\\Users\\gonca\\anaconda3\\lib\\site-packages\\scipy\\linalg\\decomp_cholesky.py\", line 37, in _cholesky\n",
      "    raise LinAlgError(\"%d-th leading minor of the array is not positive \"\n",
      "numpy.linalg.LinAlgError: 48-th leading minor of the array is not positive definite\n",
      "\n",
      "--------------------------------------------------------------------------------\n",
      "1 fits failed with the following error:\n",
      "Traceback (most recent call last):\n",
      "  File \"C:\\Users\\gonca\\anaconda3\\lib\\site-packages\\sklearn\\model_selection\\_validation.py\", line 681, in _fit_and_score\n",
      "    estimator.fit(X_train, y_train, **fit_params)\n",
      "  File \"C:\\Users\\gonca\\anaconda3\\lib\\site-packages\\sklearn\\gaussian_process\\_gpc.py\", line 715, in fit\n",
      "    self.base_estimator_.fit(X, y)\n",
      "  File \"C:\\Users\\gonca\\anaconda3\\lib\\site-packages\\sklearn\\gaussian_process\\_gpc.py\", line 224, in fit\n",
      "    self._constrained_optimization(\n",
      "  File \"C:\\Users\\gonca\\anaconda3\\lib\\site-packages\\sklearn\\gaussian_process\\_gpc.py\", line 469, in _constrained_optimization\n",
      "    opt_res = scipy.optimize.minimize(\n",
      "  File \"C:\\Users\\gonca\\anaconda3\\lib\\site-packages\\scipy\\optimize\\_minimize.py\", line 623, in minimize\n",
      "    return _minimize_lbfgsb(fun, x0, args, jac, bounds,\n",
      "  File \"C:\\Users\\gonca\\anaconda3\\lib\\site-packages\\scipy\\optimize\\lbfgsb.py\", line 360, in _minimize_lbfgsb\n",
      "    f, g = func_and_grad(x)\n",
      "  File \"C:\\Users\\gonca\\anaconda3\\lib\\site-packages\\scipy\\optimize\\_differentiable_functions.py\", line 267, in fun_and_grad\n",
      "    self._update_fun()\n",
      "  File \"C:\\Users\\gonca\\anaconda3\\lib\\site-packages\\scipy\\optimize\\_differentiable_functions.py\", line 233, in _update_fun\n",
      "    self._update_fun_impl()\n",
      "  File \"C:\\Users\\gonca\\anaconda3\\lib\\site-packages\\scipy\\optimize\\_differentiable_functions.py\", line 137, in update_fun\n",
      "    self.f = fun_wrapped(self.x)\n",
      "  File \"C:\\Users\\gonca\\anaconda3\\lib\\site-packages\\scipy\\optimize\\_differentiable_functions.py\", line 134, in fun_wrapped\n",
      "    return fun(np.copy(x), *args)\n",
      "  File \"C:\\Users\\gonca\\anaconda3\\lib\\site-packages\\scipy\\optimize\\optimize.py\", line 74, in __call__\n",
      "    self._compute_if_needed(x, *args)\n",
      "  File \"C:\\Users\\gonca\\anaconda3\\lib\\site-packages\\scipy\\optimize\\optimize.py\", line 68, in _compute_if_needed\n",
      "    fg = self.fun(x, *args)\n",
      "  File \"C:\\Users\\gonca\\anaconda3\\lib\\site-packages\\sklearn\\gaussian_process\\_gpc.py\", line 215, in obj_func\n",
      "    lml, grad = self.log_marginal_likelihood(\n",
      "  File \"C:\\Users\\gonca\\anaconda3\\lib\\site-packages\\sklearn\\gaussian_process\\_gpc.py\", line 380, in log_marginal_likelihood\n",
      "    Z, (pi, W_sr, L, b, a) = self._posterior_mode(K, return_temporaries=True)\n",
      "  File \"C:\\Users\\gonca\\anaconda3\\lib\\site-packages\\sklearn\\gaussian_process\\_gpc.py\", line 439, in _posterior_mode\n",
      "    L = cholesky(B, lower=True)\n",
      "  File \"C:\\Users\\gonca\\anaconda3\\lib\\site-packages\\scipy\\linalg\\decomp_cholesky.py\", line 88, in cholesky\n",
      "    c, lower = _cholesky(a, lower=lower, overwrite_a=overwrite_a, clean=True,\n",
      "  File \"C:\\Users\\gonca\\anaconda3\\lib\\site-packages\\scipy\\linalg\\decomp_cholesky.py\", line 37, in _cholesky\n",
      "    raise LinAlgError(\"%d-th leading minor of the array is not positive \"\n",
      "numpy.linalg.LinAlgError: 46-th leading minor of the array is not positive definite\n",
      "\n",
      "--------------------------------------------------------------------------------\n",
      "1 fits failed with the following error:\n",
      "Traceback (most recent call last):\n",
      "  File \"C:\\Users\\gonca\\anaconda3\\lib\\site-packages\\sklearn\\model_selection\\_validation.py\", line 681, in _fit_and_score\n",
      "    estimator.fit(X_train, y_train, **fit_params)\n",
      "  File \"C:\\Users\\gonca\\anaconda3\\lib\\site-packages\\sklearn\\gaussian_process\\_gpc.py\", line 715, in fit\n",
      "    self.base_estimator_.fit(X, y)\n",
      "  File \"C:\\Users\\gonca\\anaconda3\\lib\\site-packages\\sklearn\\gaussian_process\\_gpc.py\", line 224, in fit\n",
      "    self._constrained_optimization(\n",
      "  File \"C:\\Users\\gonca\\anaconda3\\lib\\site-packages\\sklearn\\gaussian_process\\_gpc.py\", line 469, in _constrained_optimization\n",
      "    opt_res = scipy.optimize.minimize(\n",
      "  File \"C:\\Users\\gonca\\anaconda3\\lib\\site-packages\\scipy\\optimize\\_minimize.py\", line 623, in minimize\n",
      "    return _minimize_lbfgsb(fun, x0, args, jac, bounds,\n",
      "  File \"C:\\Users\\gonca\\anaconda3\\lib\\site-packages\\scipy\\optimize\\lbfgsb.py\", line 360, in _minimize_lbfgsb\n",
      "    f, g = func_and_grad(x)\n",
      "  File \"C:\\Users\\gonca\\anaconda3\\lib\\site-packages\\scipy\\optimize\\_differentiable_functions.py\", line 267, in fun_and_grad\n",
      "    self._update_fun()\n",
      "  File \"C:\\Users\\gonca\\anaconda3\\lib\\site-packages\\scipy\\optimize\\_differentiable_functions.py\", line 233, in _update_fun\n",
      "    self._update_fun_impl()\n",
      "  File \"C:\\Users\\gonca\\anaconda3\\lib\\site-packages\\scipy\\optimize\\_differentiable_functions.py\", line 137, in update_fun\n",
      "    self.f = fun_wrapped(self.x)\n",
      "  File \"C:\\Users\\gonca\\anaconda3\\lib\\site-packages\\scipy\\optimize\\_differentiable_functions.py\", line 134, in fun_wrapped\n",
      "    return fun(np.copy(x), *args)\n",
      "  File \"C:\\Users\\gonca\\anaconda3\\lib\\site-packages\\scipy\\optimize\\optimize.py\", line 74, in __call__\n",
      "    self._compute_if_needed(x, *args)\n",
      "  File \"C:\\Users\\gonca\\anaconda3\\lib\\site-packages\\scipy\\optimize\\optimize.py\", line 68, in _compute_if_needed\n",
      "    fg = self.fun(x, *args)\n",
      "  File \"C:\\Users\\gonca\\anaconda3\\lib\\site-packages\\sklearn\\gaussian_process\\_gpc.py\", line 215, in obj_func\n",
      "    lml, grad = self.log_marginal_likelihood(\n",
      "  File \"C:\\Users\\gonca\\anaconda3\\lib\\site-packages\\sklearn\\gaussian_process\\_gpc.py\", line 380, in log_marginal_likelihood\n",
      "    Z, (pi, W_sr, L, b, a) = self._posterior_mode(K, return_temporaries=True)\n",
      "  File \"C:\\Users\\gonca\\anaconda3\\lib\\site-packages\\sklearn\\gaussian_process\\_gpc.py\", line 439, in _posterior_mode\n",
      "    L = cholesky(B, lower=True)\n",
      "  File \"C:\\Users\\gonca\\anaconda3\\lib\\site-packages\\scipy\\linalg\\decomp_cholesky.py\", line 88, in cholesky\n",
      "    c, lower = _cholesky(a, lower=lower, overwrite_a=overwrite_a, clean=True,\n",
      "  File \"C:\\Users\\gonca\\anaconda3\\lib\\site-packages\\scipy\\linalg\\decomp_cholesky.py\", line 37, in _cholesky\n",
      "    raise LinAlgError(\"%d-th leading minor of the array is not positive \"\n",
      "numpy.linalg.LinAlgError: 44-th leading minor of the array is not positive definite\n",
      "\n",
      "  warnings.warn(some_fits_failed_message, FitFailedWarning)\n",
      "C:\\Users\\gonca\\anaconda3\\lib\\site-packages\\sklearn\\model_selection\\_search.py:969: UserWarning: One or more of the test scores are non-finite: [0.5               nan 0.5        0.70025991 0.5       ]\n",
      "  warnings.warn(\n"
     ]
    },
    {
     "data": {
      "text/plain": [
       "'Done exporting to: gp_submit.csv'"
      ]
     },
     "execution_count": 14,
     "metadata": {},
     "output_type": "execute_result"
    },
    {
     "data": {
      "image/png": "[encoded data removed]",
      "text/plain": [
       "<Figure size 432x288 with 2 Axes>"
      ]
     },
     "metadata": {
      "needs_background": "light"
     },
     "output_type": "display_data"
    }
   ],
   "source": [
    "\n",
    "# grid search kernel for gaussian process classifier\n",
    "from sklearn.datasets import make_classification\n",
    "from sklearn.model_selection import GridSearchCV\n",
    "from sklearn.model_selection import RepeatedStratifiedKFold\n",
    "from sklearn.gaussian_process import GaussianProcessClassifier\n",
    "from sklearn.gaussian_process.kernels import RBF\n",
    "from sklearn.gaussian_process.kernels import DotProduct\n",
    "from sklearn.gaussian_process.kernels import Matern\n",
    "from sklearn.gaussian_process.kernels import RationalQuadratic\n",
    "from sklearn.gaussian_process.kernels import WhiteKernel\n",
    "\n",
    "# define model\n",
    "model = GaussianProcessClassifier()\n",
    "# define model evaluation method\n",
    "cv = RepeatedStratifiedKFold(n_splits=10, n_repeats=3, random_state=1)\n",
    "# define grid\n",
    "grid = dict()\n",
    "grid['kernel'] = [1*RBF(), 1*DotProduct(), 1*Matern(),  1*RationalQuadratic(), 1*WhiteKernel()]\n",
    "# define search\n",
    "search = GridSearchCV(model, grid, scoring='roc_auc', cv=cv, n_jobs=-1, refit=True)\n",
    "# perform the search\n",
    "results = search.fit(X, y)\n",
    "# summarize best\n",
    "print('Best Mean Accuracy: %.3f' % results.best_score_)\n",
    "print('Best Config: %s' % results.best_params_)\n",
    "# summarize all\n",
    "means = results.cv_results_['mean_test_score']\n",
    "params = results.cv_results_['params']\n",
    "for mean, param in zip(means, params):\n",
    "    print(\">%.3f with: %r\" % (mean, param))\n",
    "    \n",
    "\n",
    "model = results.best_estimator_\n",
    "\n",
    "y_pred_gp = evaluate(model, X_test, y_test)\n",
    "\n",
    "test_export(model, test_df, \"gp_submit\")"
   ]
  },
  {
   "cell_type": "markdown",
   "id": "5ffd9160",
   "metadata": {},
   "source": [
    "## 8. MLP Classifier"
   ]
  },
  {
   "cell_type": "code",
   "execution_count": 15,
   "id": "901fedcb",
   "metadata": {},
   "outputs": [
    {
     "name": "stdout",
     "output_type": "stream",
     "text": [
      "Fitting 5 folds for each of 35 candidates, totalling 175 fits\n",
      "Best Score: 0.6691191191191191\n",
      "Best Params: {'alpha': 0.75, 'hidden_layer_sizes': 20}\n",
      "AUC Score:  0.5355603448275863\n"
     ]
    },
    {
     "data": {
      "text/plain": [
       "'Done exporting to: mlp_submit.csv'"
      ]
     },
     "execution_count": 15,
     "metadata": {},
     "output_type": "execute_result"
    },
    {
     "data": {
      "image/png": "[encoded data removed]",
      "text/plain": [
       "<Figure size 432x288 with 2 Axes>"
      ]
     },
     "metadata": {
      "needs_background": "light"
     },
     "output_type": "display_data"
    }
   ],
   "source": [
    "mlp = MLPClassifier(alpha=1, hidden_layer_sizes=150)\n",
    "\n",
    "param_grid = {'alpha': [0.1, 0.25, 0.45, 0.5, 0.55, 0.75, 0.85],\n",
    "             'hidden_layer_sizes': [10, 20, 30, 60, 100]}\n",
    "\n",
    "model = train_model(X, y, mlp, param_grid)\n",
    "\n",
    "y_pred_mlp = evaluate(model, X_test, y_test)\n",
    "\n",
    "test_export(model, test_df, \"mlp_submit\")"
   ]
  },
  {
   "cell_type": "markdown",
   "id": "4f518949",
   "metadata": {},
   "source": [
    "# Compare ROCs"
   ]
  },
  {
   "cell_type": "code",
   "execution_count": 17,
   "id": "bbdb572a",
   "metadata": {},
   "outputs": [
    {
     "data": {
      "image/png": "[encoded data removed]",
      "text/plain": [
       "<Figure size 720x576 with 1 Axes>"
      ]
     },
     "metadata": {
      "needs_background": "light"
     },
     "output_type": "display_data"
    }
   ],
   "source": [
    "import numpy as np\n",
    "np.random.seed(2018)\n",
    "\n",
    "from sklearn.metrics import roc_auc_score, roc_curve\n",
    "import matplotlib\n",
    "import matplotlib.pyplot as plt\n",
    "\n",
    "def roc_curve_and_score(y_test, pred_proba):\n",
    "    fpr, tpr, _ = roc_curve(y_test.ravel(), pred_proba.ravel())\n",
    "    roc_auc = roc_auc_score(y_test.ravel(), pred_proba.ravel())\n",
    "    return fpr, tpr, roc_auc\n",
    "\n",
    "\n",
    "plt.figure(figsize=(10, 8))\n",
    "matplotlib.rcParams.update({'font.size': 14})\n",
    "plt.grid()\n",
    "\n",
    "fpr, tpr, roc_auc = roc_curve_and_score(y_test, y_pred_rfc)\n",
    "plt.plot(fpr, tpr, color='darkorange', lw=2, label='RFC({0:.3f})'.format(roc_auc))\n",
    "\n",
    "# fpr, tpr, roc_auc = roc_curve_and_score(y_test, y_pred_svm)\n",
    "# plt.plot(fpr, tpr, color='red', lw=2, label='SVM({0:.3f})'.format(roc_auc))\n",
    "\n",
    "fpr, tpr, roc_auc = roc_curve_and_score(y_test, y_pred_xgb)\n",
    "plt.plot(fpr, tpr, color='blue', lw=2, label='XGB({0:.3f})'.format(roc_auc))\n",
    "\n",
    "fpr, tpr, roc_auc = roc_curve_and_score(y_test, y_pred_neural)\n",
    "plt.plot(fpr, tpr, color='purple', lw=2, label='NEURAL({0:.3f})'.format(roc_auc))\n",
    "\n",
    "fpr, tpr, roc_auc = roc_curve_and_score(y_test, y_pred_knn)\n",
    "plt.plot(fpr, tpr, color='crimson', lw=2, label='KNN({0:.3f})'.format(roc_auc))\n",
    "\n",
    "fpr, tpr, roc_auc = roc_curve_and_score(y_test, y_pred_dtc)\n",
    "plt.plot(fpr, tpr, color='yellow', lw=2, label='DTC({0:.3f})'.format(roc_auc))\n",
    "\n",
    "fpr, tpr, roc_auc = roc_curve_and_score(y_test, y_pred_gp)\n",
    "plt.plot(fpr, tpr, color='green', lw=2, label='GP({0:.3f})'.format(roc_auc))\n",
    "\n",
    "fpr, tpr, roc_auc = roc_curve_and_score(y_test, y_pred_mlp)\n",
    "plt.plot(fpr, tpr, color='black', lw=2, label='MLP({0:.3f})'.format(roc_auc))\n",
    "\n",
    "plt.plot([0, 1], [0, 1], color='navy', lw=1, linestyle='--')\n",
    "plt.legend(loc=\"lower right\")\n",
    "plt.xlim([0.0, 1.0])\n",
    "plt.ylim([0.0, 1.05])\n",
    "plt.xlabel('1 - Specificity')\n",
    "plt.ylabel('Sensitivity')\n",
    "plt.show()"
   ]
  }
 ],
 "metadata": {
  "kernelspec": {
   "display_name": "Python 3 (ipykernel)",
   "language": "python",
   "name": "python3"
  },
  "language_info": {
   "codemirror_mode": {
    "name": "ipython",
    "version": 3
   },
   "file_extension": ".py",
   "mimetype": "text/x-python",
   "name": "python",
   "nbconvert_exporter": "python",
   "pygments_lexer": "ipython3",
   "version": "3.8.12"
  }
 },
 "nbformat": 4,
 "nbformat_minor": 5
}
