{
 "cells": [
  {
   "cell_type": "code",
   "execution_count": 1,
   "id": "6efa49aa",
   "metadata": {},
   "outputs": [],
   "source": [
    "import pandas as pd\n",
    "import seaborn as sns\n",
    "import matplotlib.pyplot as plt    \n",
    "import numpy as np"
   ]
  },
  {
   "cell_type": "code",
   "execution_count": 2,
   "id": "09443efd",
   "metadata": {
    "scrolled": false
   },
   "outputs": [],
   "source": [
    "train_train_df = pd.read_csv(\"train_93_95.csv\", sep=\",\")\n",
    "train_test_df = pd.read_csv(\"train_96.csv\", sep=\",\")\n",
    "\n",
    "test_df = pd.read_csv(\"test.csv\", sep=\",\")"
   ]
  },
  {
   "cell_type": "markdown",
   "id": "f6275eca",
   "metadata": {},
   "source": [
    "## Random Forest Classifier"
   ]
  },
  {
   "cell_type": "code",
   "execution_count": 3,
   "id": "ca6e2fdb",
   "metadata": {
    "scrolled": false
   },
   "outputs": [
    {
     "name": "stdout",
     "output_type": "stream",
     "text": [
      "Best Score: 0.8908744557329463\n",
      "Best Params: {'criterion': 'gini', 'max_depth': 8, 'max_features': 'auto', 'n_estimators': 100}\n"
     ]
    }
   ],
   "source": [
    "from sklearn.ensemble import RandomForestClassifier\n",
    "from sklearn.model_selection import GridSearchCV\n",
    "from sklearn import metrics\n",
    "\n",
    "unwanted_features = [\"status\", \"loan_id\"]\n",
    "features = [x for x in list(train_train_df) if x not in unwanted_features]\n",
    "target = \"status\"\n",
    "\n",
    "X = train_train_df[features]\n",
    "y = train_train_df[target]\n",
    "\n",
    "X_test = train_test_df[features]\n",
    "y_test = train_test_df[target]\n",
    "\n",
    "rfc = RandomForestClassifier(random_state=42)\n",
    "\n",
    "param_grid = { \n",
    "    'n_estimators': [100, 150, 200],\n",
    "    'max_features': ['auto', 'sqrt', 'log2'],\n",
    "    'max_depth' : [6,7,8,9,10],\n",
    "    'criterion' :['gini', 'entropy'],\n",
    "}\n",
    "\n",
    "CV_rfc = GridSearchCV(estimator=rfc, param_grid=param_grid, cv=4)\n",
    "\n",
    "CV_rfc.fit(X, y)\n",
    "\n",
    "print(\"Best Score:\", CV_rfc.best_score_)\n",
    "print(\"Best Params:\", CV_rfc.best_params_)"
   ]
  },
  {
   "cell_type": "code",
   "execution_count": 10,
   "id": "fbfd0572",
   "metadata": {},
   "outputs": [
    {
     "data": {
      "text/plain": [
       "RandomForestClassifier(max_depth=8, random_state=42)"
      ]
     },
     "execution_count": 10,
     "metadata": {},
     "output_type": "execute_result"
    }
   ],
   "source": [
    "clf_rfc = RandomForestClassifier(random_state=42, criterion='gini', max_depth=8, max_features='auto', n_estimators=100)\n",
    "\n",
    "clf_rfc.fit(X, y)"
   ]
  },
  {
   "cell_type": "code",
   "execution_count": 11,
   "id": "4c6983da",
   "metadata": {},
   "outputs": [
    {
     "name": "stdout",
     "output_type": "stream",
     "text": [
      "AUC Score:  1.0\n"
     ]
    },
    {
     "data": {
      "image/png": "[encoded data removed]",
      "text/plain": [
       "<Figure size 432x288 with 2 Axes>"
      ]
     },
     "metadata": {
      "needs_background": "light"
     },
     "output_type": "display_data"
    }
   ],
   "source": [
    "# Predict the response for test dataset\n",
    "y_pred = clf_rfc.predict_proba(X_test)[:, -1]\n",
    "\n",
    "# Area Under the Curve, the higher the better\n",
    "auc = metrics.roc_auc_score(y_test, y_pred)\n",
    "print(\"AUC Score: \", auc)\n",
    "\n",
    "y_pred = np.argmax(clf_rfc.predict_proba(X_test), axis=1)\n",
    "cm = metrics.confusion_matrix(y_test, y_pred)\n",
    "ax= plt.subplot()\n",
    "sns.heatmap(cm, annot=True, fmt='g', ax=ax);  #annot=True to annotate cells, ftm='g' to disable scientific notation\n",
    "\n",
    "# labels, title and ticks\n",
    "ax.set_xlabel('Predicted labels');ax.set_ylabel('True labels'); \n",
    "ax.set_title('Confusion Matrix'); \n",
    "ax.xaxis.set_ticklabels(['yes', 'no']); ax.yaxis.set_ticklabels(['yes', 'no']);"
   ]
  },
  {
   "cell_type": "code",
   "execution_count": 12,
   "id": "3f56c265",
   "metadata": {},
   "outputs": [
    {
     "data": {
      "text/html": [
       "<div>\n",
       "<style scoped>\n",
       "    .dataframe tbody tr th:only-of-type {\n",
       "        vertical-align: middle;\n",
       "    }\n",
       "\n",
       "    .dataframe tbody tr th {\n",
       "        vertical-align: top;\n",
       "    }\n",
       "\n",
       "    .dataframe thead th {\n",
       "        text-align: right;\n",
       "    }\n",
       "</style>\n",
       "<table border=\"1\" class=\"dataframe\">\n",
       "  <thead>\n",
       "    <tr style=\"text-align: right;\">\n",
       "      <th></th>\n",
       "      <th>Id</th>\n",
       "      <th>Predicted</th>\n",
       "    </tr>\n",
       "  </thead>\n",
       "  <tbody>\n",
       "    <tr>\n",
       "      <th>0</th>\n",
       "      <td>4962</td>\n",
       "      <td>0.074600</td>\n",
       "    </tr>\n",
       "    <tr>\n",
       "      <th>1</th>\n",
       "      <td>5051</td>\n",
       "      <td>0.128132</td>\n",
       "    </tr>\n",
       "    <tr>\n",
       "      <th>2</th>\n",
       "      <td>5207</td>\n",
       "      <td>0.128815</td>\n",
       "    </tr>\n",
       "    <tr>\n",
       "      <th>3</th>\n",
       "      <td>5561</td>\n",
       "      <td>0.030106</td>\n",
       "    </tr>\n",
       "    <tr>\n",
       "      <th>4</th>\n",
       "      <td>5906</td>\n",
       "      <td>0.071454</td>\n",
       "    </tr>\n",
       "    <tr>\n",
       "      <th>...</th>\n",
       "      <td>...</td>\n",
       "      <td>...</td>\n",
       "    </tr>\n",
       "    <tr>\n",
       "      <th>349</th>\n",
       "      <td>7242</td>\n",
       "      <td>0.012179</td>\n",
       "    </tr>\n",
       "    <tr>\n",
       "      <th>350</th>\n",
       "      <td>7067</td>\n",
       "      <td>0.019302</td>\n",
       "    </tr>\n",
       "    <tr>\n",
       "      <th>351</th>\n",
       "      <td>7122</td>\n",
       "      <td>0.731357</td>\n",
       "    </tr>\n",
       "    <tr>\n",
       "      <th>352</th>\n",
       "      <td>7221</td>\n",
       "      <td>0.259729</td>\n",
       "    </tr>\n",
       "    <tr>\n",
       "      <th>353</th>\n",
       "      <td>7230</td>\n",
       "      <td>0.014854</td>\n",
       "    </tr>\n",
       "  </tbody>\n",
       "</table>\n",
       "<p>354 rows × 2 columns</p>\n",
       "</div>"
      ],
      "text/plain": [
       "       Id Predicted\n",
       "0    4962  0.074600\n",
       "1    5051  0.128132\n",
       "2    5207  0.128815\n",
       "3    5561  0.030106\n",
       "4    5906  0.071454\n",
       "..    ...       ...\n",
       "349  7242  0.012179\n",
       "350  7067  0.019302\n",
       "351  7122  0.731357\n",
       "352  7221  0.259729\n",
       "353  7230  0.014854\n",
       "\n",
       "[354 rows x 2 columns]"
      ]
     },
     "execution_count": 12,
     "metadata": {},
     "output_type": "execute_result"
    }
   ],
   "source": [
    "test = test_df[features]\n",
    "\n",
    "confidences = clf_rfc.predict_proba(test)[:,-1]\n",
    "\n",
    "confidences = [0 if x < 0.000001 else x for x in confidences]\n",
    "confidences = [\"{:f}\".format(x) for x in confidences]\n",
    "\n",
    "submit = pd.DataFrame()\n",
    "\n",
    "submit[\"Id\"] = test_df[\"loan_id\"]\n",
    "submit[\"Predicted\"] = confidences\n",
    "\n",
    "submit.to_csv(\"rf_python.csv\", sep=\",\", index=False)\n",
    "\n",
    "submit"
   ]
  },
  {
   "cell_type": "markdown",
   "id": "8025df13",
   "metadata": {},
   "source": [
    "## Neural Network"
   ]
  },
  {
   "cell_type": "code",
   "execution_count": 7,
   "id": "2630938e",
   "metadata": {
    "scrolled": false
   },
   "outputs": [
    {
     "name": "stdout",
     "output_type": "stream",
     "text": [
      "11/11 [==============================] - 0s 363us/step - loss: 40859.4336 - auc: 0.5255\n",
      "AUC: 0.53\n"
     ]
    }
   ],
   "source": [
    "from keras.models import Sequential\n",
    "from keras.layers import Dense\n",
    "import keras\n",
    "\n",
    "train_train_df = train_train_df.append(train_test_df, ignore_index=True)\n",
    "\n",
    "X = train_train_df[features]\n",
    "y = train_train_df[target]\n",
    "\n",
    "# define the keras model\n",
    "model = Sequential()\n",
    "model.add(Dense(15, input_dim=50, activation='relu'))\n",
    "model.add(Dense(10, activation='relu'))\n",
    "model.add(Dense(10, activation='relu'))\n",
    "model.add(Dense(1, activation='sigmoid'))\n",
    "# compile the keras model\n",
    "model.compile(loss='binary_crossentropy', optimizer='adam', metrics=[keras.metrics.AUC()])\n",
    "# fit the keras model on the dataset\n",
    "model.fit(X, y, epochs=300, batch_size=32, verbose=0)\n",
    "# evaluate the keras model\n",
    "_, auc = model.evaluate(X, y)\n",
    "print('AUC: %.2f' % auc)\n"
   ]
  },
  {
   "cell_type": "code",
   "execution_count": 8,
   "id": "51dea972",
   "metadata": {},
   "outputs": [
    {
     "name": "stdout",
     "output_type": "stream",
     "text": [
      "WARNING:tensorflow:From <ipython-input-8-c78304f9cb6a>:1: Sequential.predict_proba (from tensorflow.python.keras.engine.sequential) is deprecated and will be removed after 2021-01-01.\n",
      "Instructions for updating:\n",
      "Please use `model.predict()` instead.\n",
      "AUC Score:  0.4900990099009901\n"
     ]
    },
    {
     "data": {
      "image/png": "[encoded data removed]",
      "text/plain": [
       "<Figure size 432x288 with 2 Axes>"
      ]
     },
     "metadata": {
      "needs_background": "light"
     },
     "output_type": "display_data"
    }
   ],
   "source": [
    "y_pred = model.predict_proba(X_test)\n",
    "\n",
    "# Area Under the Curve, the higher the better\n",
    "auc = metrics.roc_auc_score(y_test, y_pred[:,-1])\n",
    "print(\"AUC Score: \", auc)\n",
    "\n",
    "y_pred = np.argmax(model.predict_proba(X_test), axis=1)\n",
    "\n",
    "cm = metrics.confusion_matrix(y_test, y_pred)\n",
    "ax= plt.subplot()\n",
    "sns.heatmap(cm, annot=True, fmt='g', ax=ax);  #annot=True to annotate cells, ftm='g' to disable scientific notation\n",
    "\n",
    "# labels, title and ticks\n",
    "ax.set_xlabel('Predicted labels');ax.set_ylabel('True labels'); \n",
    "ax.set_title('Confusion Matrix'); \n",
    "ax.xaxis.set_ticklabels(['yes', 'no']); ax.yaxis.set_ticklabels(['yes', 'no']);"
   ]
  },
  {
   "cell_type": "code",
   "execution_count": 9,
   "id": "2d869269",
   "metadata": {},
   "outputs": [],
   "source": [
    "confidences = model.predict_proba(test)[:,-1]\n",
    "\n",
    "confidences = [0 if x < 0.000001 else x for x in confidences]\n",
    "confidences = [\"{:f}\".format(x) for x in confidences]\n",
    "\n",
    "submit = pd.DataFrame()\n",
    "\n",
    "submit[\"Id\"] = test_df[\"loan_id\"]\n",
    "submit[\"Predicted\"] = confidences\n",
    "\n",
    "submit.to_csv(\"neuralnet_python.csv\", sep=\",\", index=False)"
   ]
  }
 ],
 "metadata": {
  "kernelspec": {
   "display_name": "Python 3",
   "language": "python",
   "name": "python3"
  },
  "language_info": {
   "codemirror_mode": {
    "name": "ipython",
    "version": 3
   },
   "file_extension": ".py",
   "mimetype": "text/x-python",
   "name": "python",
   "nbconvert_exporter": "python",
   "pygments_lexer": "ipython3",
   "version": "3.8.8"
  }
 },
 "nbformat": 4,
 "nbformat_minor": 5
}
